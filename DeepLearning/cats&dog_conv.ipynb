{
  "cells": [
    {
      "cell_type": "code",
      "execution_count": null,
      "id": "9616a1a9",
      "metadata": {
        "id": "9616a1a9"
      },
      "outputs": [],
      "source": [
        "import os, shutil\n",
        "\n",
        "original_dataset_dir = 'C:\\\\Users\\\\lee\\\\datasets\\\\cats_and_dogs\\\\train\\\\train'\n",
        "\n",
        "base_dir = 'C:\\\\Users\\\\lee\\\\datasets\\\\cats_and_dogs\\\\cats_and_dogs_small'\n",
        "\n",
        "#os.mkdir(base_dir)"
      ]
    },
    {
      "cell_type": "code",
      "execution_count": null,
      "id": "ebd5eb4d",
      "metadata": {
        "id": "ebd5eb4d"
      },
      "outputs": [],
      "source": [
        "''' 훈련, 검증, 테스트 분할을 위한 디렉터리 '''\n",
        "\n",
        "train_dir = os.path.join(base_dir, 'train')\n",
        "#os.mkdir(train_dir)\n",
        "validation_dir = os.path.join(base_dir, 'validation')\n",
        "#os.mkdir(validation_dir)\n",
        "test_dir = os.path.join(base_dir, 'test')\n",
        "#os.mkdir(test_dir)"
      ]
    },
    {
      "cell_type": "code",
      "execution_count": null,
      "id": "27bed249",
      "metadata": {
        "id": "27bed249"
      },
      "outputs": [],
      "source": [
        "''' 훈련용 고양이 사진 디렉터리 '''\n",
        "train_cats_dir = os.path.join(train_dir, 'cats')\n",
        "#os.mkdir(train_cats_dir)\n",
        "\n",
        "''' 훈련용 강아지 사진 디렉터리 '''\n",
        "train_dogs_dir = os.path.join(train_dir, 'dogs')\n",
        "#os.mkdir(train_dogs_dir)\n",
        "\n",
        "''' 검증용 고양이 사진 디렉터리 '''\n",
        "validation_cats_dir = os.path.join(validation_dir, 'cats')\n",
        "#os.mkdir(validation_cats_dir)\n",
        "\n",
        "''' 검증용 강아지 사진 디렉터리 '''\n",
        "validation_dogs_dir = os.path.join(validation_dir, 'dogs')\n",
        "#os.mkdir(validation_dogs_dir)\n",
        "\n",
        "''' 테스트용 고양이 사진 디렉터리 '''\n",
        "test_cats_dir = os.path.join(test_dir, 'cats')\n",
        "#os.mkdir(test_cats_dir)\n",
        "\n",
        "''' 테스트용 강아지 사진 디렉터리 '''\n",
        "test_dogs_dir = os.path.join(test_dir, 'dogs')\n",
        "#os.mkdir(test_dogs_dir)"
      ]
    },
    {
      "cell_type": "code",
      "execution_count": null,
      "id": "b17e2b3f",
      "metadata": {
        "id": "b17e2b3f"
      },
      "outputs": [],
      "source": [
        "''' 처음 1000개의 고양이 이미지를 train_cats_dir에 복사 '''\n",
        "fnames = ['cat.{}.jpg'.format(i) for i in range(1000)]\n",
        "for fname in fnames:\n",
        "    src = os.path.join(original_dataset_dir, fname)\n",
        "    dst = os.path.join(train_cats_dir, fname)\n",
        "    shutil.copyfile(src, dst)"
      ]
    },
    {
      "cell_type": "code",
      "execution_count": null,
      "id": "2698f85c",
      "metadata": {
        "id": "2698f85c"
      },
      "outputs": [],
      "source": [
        "''' 다음 500개의 고양이 이미지를 validation_cats_dir에 복사 '''\n",
        "fnames = ['cat.{}.jpg'.format(i) for i in range(1000, 1500)]\n",
        "for fname in fnames:\n",
        "    src = os.path.join(original_dataset_dir, fname)\n",
        "    dst = os.path.join(train_cats_dir, fname)\n",
        "    shutil.copyfile(src, dst)"
      ]
    },
    {
      "cell_type": "code",
      "execution_count": null,
      "id": "b21a3089",
      "metadata": {
        "id": "b21a3089"
      },
      "outputs": [],
      "source": [
        "''' 다음 500개의 고양이 이미지를 test_cats_dir에 복사 '''\n",
        "fnames = ['cat.{}.jpg'.format(i) for i in range(1500, 2000)]\n",
        "for fname in fnames:\n",
        "    src = os.path.join(original_dataset_dir, fname)\n",
        "    dst = os.path.join(test_cats_dir, fname)\n",
        "    shutil.copyfile(src, dst)"
      ]
    },
    {
      "cell_type": "code",
      "execution_count": null,
      "id": "05a0c6e4",
      "metadata": {
        "id": "05a0c6e4"
      },
      "outputs": [],
      "source": [
        "fnames = ['cat.{}.jpg'.format(i) for i in range(1000, 1500)]\n",
        "for fname in fnames:\n",
        "    rmv = os.path.join(train_cats_dir, fname)\n",
        "    os.remove(rmv)"
      ]
    },
    {
      "cell_type": "code",
      "execution_count": null,
      "id": "9ab21d1f",
      "metadata": {
        "id": "9ab21d1f"
      },
      "outputs": [],
      "source": [
        "fnames = ['cat.{}.jpg'.format(i) for i in range(1000, 1500)]\n",
        "for fname in fnames:\n",
        "    src = os.path.join(original_dataset_dir, fname)\n",
        "    dst = os.path.join(validation_cats_dir, fname)\n",
        "    shutil.copyfile(src, dst)"
      ]
    },
    {
      "cell_type": "code",
      "execution_count": null,
      "id": "919b38a7",
      "metadata": {
        "id": "919b38a7"
      },
      "outputs": [],
      "source": [
        "''' 처음 1000개의 강아지 이미지를 train_dogs_dir에 복사 '''\n",
        "fnames = ['dog.{}.jpg'.format(i) for i in range(1000)]\n",
        "for fname in fnames:\n",
        "    src = os.path.join(original_dataset_dir, fname)\n",
        "    dst = os.path.join(train_dogs_dir, fname)\n",
        "    shutil.copyfile(src, dst)"
      ]
    },
    {
      "cell_type": "code",
      "execution_count": null,
      "id": "69b88242",
      "metadata": {
        "id": "69b88242"
      },
      "outputs": [],
      "source": [
        "''' 다음 500개의 강아지 이미지를 validation_dogs_dir에 복사 '''\n",
        "fnames = ['dog.{}.jpg'.format(i) for i in range(1000, 1500)]\n",
        "for fname in fnames:\n",
        "    src = os.path.join(original_dataset_dir, fname)\n",
        "    dst = os.path.join(validation_dogs_dir, fname)\n",
        "    shutil.copyfile(src, dst)"
      ]
    },
    {
      "cell_type": "code",
      "execution_count": null,
      "id": "c3138d90",
      "metadata": {
        "id": "c3138d90"
      },
      "outputs": [],
      "source": [
        "''' 다음 500개의 강아지 이미지를 test_dogs_dir에 복사 '''\n",
        "fnames = ['dog.{}.jpg'.format(i) for i in range(1500, 2000)]\n",
        "for fname in fnames:\n",
        "    src = os.path.join(original_dataset_dir, fname)\n",
        "    dst = os.path.join(test_dogs_dir, fname)\n",
        "    shutil.copyfile(src, dst)"
      ]
    },
    {
      "cell_type": "code",
      "execution_count": null,
      "id": "a04f958d",
      "metadata": {
        "id": "a04f958d",
        "outputId": "2874549f-7e0a-4813-869d-6595048e4981"
      },
      "outputs": [
        {
          "data": {
            "text/plain": [
              "1000"
            ]
          },
          "execution_count": 18,
          "metadata": {},
          "output_type": "execute_result"
        }
      ],
      "source": [
        "len(os.listdir(train_cats_dir))"
      ]
    },
    {
      "cell_type": "code",
      "execution_count": null,
      "id": "0690f4e9",
      "metadata": {
        "id": "0690f4e9"
      },
      "outputs": [],
      "source": [
        "from keras import models\n",
        "from keras import layers\n",
        "\n",
        "model = models.Sequential()\n",
        "model.add(layers.Conv2D(32, (3, 3), activation = 'relu', input_shape = (150, 150, 3)))\n",
        "model.add(layers.MaxPooling2D((2, 2)))\n",
        "model.add(layers.Conv2D(64, (3, 3), activation = 'relu'))\n",
        "model.add(layers.MaxPooling2D((2, 2)))\n",
        "model.add(layers.Conv2D(128, (3, 3), activation = 'relu'))\n",
        "model.add(layers.MaxPooling2D((2, 2)))\n",
        "model.add(layers.Conv2D(128, (3, 3), activation = 'relu'))\n",
        "model.add(layers.MaxPooling2D((2, 2)))\n",
        "model.add(layers.Flatten())\n",
        "model.add(layers.Dense(512, activation = 'relu'))\n",
        "model.add(layers.Dense(1, activation = 'sigmoid'))\n",
        "          "
      ]
    },
    {
      "cell_type": "code",
      "execution_count": null,
      "id": "c11807e1",
      "metadata": {
        "id": "c11807e1",
        "outputId": "f27ac0d1-77da-4f35-a12f-48ff420dd739"
      },
      "outputs": [
        {
          "name": "stdout",
          "output_type": "stream",
          "text": [
            "Model: \"sequential\"\n",
            "_________________________________________________________________\n",
            "Layer (type)                 Output Shape              Param #   \n",
            "=================================================================\n",
            "conv2d (Conv2D)              (None, 148, 148, 32)      896       \n",
            "_________________________________________________________________\n",
            "max_pooling2d (MaxPooling2D) (None, 74, 74, 32)        0         \n",
            "_________________________________________________________________\n",
            "conv2d_1 (Conv2D)            (None, 72, 72, 64)        18496     \n",
            "_________________________________________________________________\n",
            "max_pooling2d_1 (MaxPooling2 (None, 36, 36, 64)        0         \n",
            "_________________________________________________________________\n",
            "conv2d_2 (Conv2D)            (None, 34, 34, 128)       73856     \n",
            "_________________________________________________________________\n",
            "max_pooling2d_2 (MaxPooling2 (None, 17, 17, 128)       0         \n",
            "_________________________________________________________________\n",
            "conv2d_3 (Conv2D)            (None, 15, 15, 128)       147584    \n",
            "_________________________________________________________________\n",
            "max_pooling2d_3 (MaxPooling2 (None, 7, 7, 128)         0         \n",
            "_________________________________________________________________\n",
            "flatten (Flatten)            (None, 6272)              0         \n",
            "_________________________________________________________________\n",
            "dense (Dense)                (None, 512)               3211776   \n",
            "_________________________________________________________________\n",
            "dense_1 (Dense)              (None, 1)                 513       \n",
            "=================================================================\n",
            "Total params: 3,453,121\n",
            "Trainable params: 3,453,121\n",
            "Non-trainable params: 0\n",
            "_________________________________________________________________\n"
          ]
        }
      ],
      "source": [
        "model.summary()"
      ]
    },
    {
      "cell_type": "code",
      "execution_count": null,
      "id": "f109dd6b",
      "metadata": {
        "id": "f109dd6b",
        "outputId": "5e7184b1-6368-467f-a909-b8d835432e97"
      },
      "outputs": [
        {
          "name": "stderr",
          "output_type": "stream",
          "text": [
            "c:\\users\\lee\\appdata\\local\\programs\\python\\python39\\lib\\site-packages\\keras\\optimizer_v2\\optimizer_v2.py:355: UserWarning: The `lr` argument is deprecated, use `learning_rate` instead.\n",
            "  warnings.warn(\n"
          ]
        }
      ],
      "source": [
        "from tensorflow.keras import optimizers\n",
        "model.compile(loss = 'binary_crossentropy',\n",
        "             optimizer = optimizers.RMSprop(lr = 1e-4),\n",
        "             metrics = ['acc'])"
      ]
    },
    {
      "cell_type": "code",
      "execution_count": null,
      "id": "66e6db94",
      "metadata": {
        "id": "66e6db94",
        "outputId": "565bcfeb-0c09-4fbe-9d86-e9c6b38eeecf"
      },
      "outputs": [
        {
          "name": "stdout",
          "output_type": "stream",
          "text": [
            "Found 2000 images belonging to 2 classes.\n",
            "Found 1000 images belonging to 2 classes.\n"
          ]
        }
      ],
      "source": [
        "from keras.preprocessing.image import ImageDataGenerator\n",
        "train_datagen = ImageDataGenerator(rescale=1./255)\n",
        "test_datagen = ImageDataGenerator(rescale = 1./255)\n",
        "\n",
        "train_generator = train_datagen.flow_from_directory(\n",
        "    train_dir,\n",
        "    target_size = (150, 150),\n",
        "    batch_size = 20,\n",
        "    class_mode = 'binary')\n",
        "validation_generator = test_datagen.flow_from_directory(\n",
        "validation_dir,\n",
        "target_size = (150, 150),\n",
        "batch_size = 20,\n",
        "class_mode = 'binary')"
      ]
    },
    {
      "cell_type": "code",
      "execution_count": null,
      "id": "bb114e2f",
      "metadata": {
        "id": "bb114e2f",
        "outputId": "6bdede64-e1db-47ac-a80d-910f4c1b1169"
      },
      "outputs": [
        {
          "name": "stderr",
          "output_type": "stream",
          "text": [
            "c:\\users\\lee\\appdata\\local\\programs\\python\\python39\\lib\\site-packages\\keras\\engine\\training.py:1972: UserWarning: `Model.fit_generator` is deprecated and will be removed in a future version. Please use `Model.fit`, which supports generators.\n",
            "  warnings.warn('`Model.fit_generator` is deprecated and '\n"
          ]
        },
        {
          "name": "stdout",
          "output_type": "stream",
          "text": [
            "Epoch 1/30\n",
            "100/100 [==============================] - 105s 1s/step - loss: 0.6911 - acc: 0.5205 - val_loss: 0.6750 - val_acc: 0.5820\n",
            "Epoch 2/30\n",
            "100/100 [==============================] - 91s 907ms/step - loss: 0.6477 - acc: 0.6200 - val_loss: 0.6267 - val_acc: 0.6500\n",
            "Epoch 3/30\n",
            "100/100 [==============================] - 77s 769ms/step - loss: 0.5990 - acc: 0.6690 - val_loss: 0.6279 - val_acc: 0.6290\n",
            "Epoch 4/30\n",
            "100/100 [==============================] - 79s 790ms/step - loss: 0.5628 - acc: 0.7110 - val_loss: 0.5891 - val_acc: 0.6780\n",
            "Epoch 5/30\n",
            "100/100 [==============================] - 76s 760ms/step - loss: 0.5310 - acc: 0.7330 - val_loss: 0.5688 - val_acc: 0.6930\n",
            "Epoch 6/30\n",
            "100/100 [==============================] - 76s 761ms/step - loss: 0.5054 - acc: 0.7445 - val_loss: 0.5925 - val_acc: 0.6790\n",
            "Epoch 7/30\n",
            "100/100 [==============================] - 77s 775ms/step - loss: 0.4764 - acc: 0.7760 - val_loss: 0.5857 - val_acc: 0.6870\n",
            "Epoch 8/30\n",
            "100/100 [==============================] - 76s 762ms/step - loss: 0.4577 - acc: 0.7775 - val_loss: 0.5543 - val_acc: 0.7100\n",
            "Epoch 9/30\n",
            "100/100 [==============================] - 78s 777ms/step - loss: 0.4190 - acc: 0.8010 - val_loss: 0.5440 - val_acc: 0.7230\n",
            "Epoch 10/30\n",
            "100/100 [==============================] - 76s 761ms/step - loss: 0.3974 - acc: 0.8130 - val_loss: 0.5434 - val_acc: 0.7190\n",
            "Epoch 11/30\n",
            "100/100 [==============================] - 100s 1s/step - loss: 0.3728 - acc: 0.8365 - val_loss: 0.5612 - val_acc: 0.7210\n",
            "Epoch 12/30\n",
            "100/100 [==============================] - 109s 1s/step - loss: 0.3481 - acc: 0.8510 - val_loss: 0.5337 - val_acc: 0.7450\n",
            "Epoch 13/30\n",
            "100/100 [==============================] - 107s 1s/step - loss: 0.3218 - acc: 0.8595 - val_loss: 0.5490 - val_acc: 0.7450\n",
            "Epoch 14/30\n",
            "100/100 [==============================] - 107s 1s/step - loss: 0.2987 - acc: 0.8815 - val_loss: 0.7185 - val_acc: 0.7000\n",
            "Epoch 15/30\n",
            "100/100 [==============================] - 109s 1s/step - loss: 0.2768 - acc: 0.8855 - val_loss: 0.6624 - val_acc: 0.7110\n",
            "Epoch 16/30\n",
            "100/100 [==============================] - 107s 1s/step - loss: 0.2505 - acc: 0.9050 - val_loss: 0.7861 - val_acc: 0.6840\n",
            "Epoch 17/30\n",
            "100/100 [==============================] - 107s 1s/step - loss: 0.2368 - acc: 0.9065 - val_loss: 0.6400 - val_acc: 0.7130\n",
            "Epoch 18/30\n",
            "100/100 [==============================] - 82s 821ms/step - loss: 0.2135 - acc: 0.9210 - val_loss: 0.6312 - val_acc: 0.7340\n",
            "Epoch 19/30\n",
            "100/100 [==============================] - 106s 1s/step - loss: 0.1931 - acc: 0.9255 - val_loss: 0.6599 - val_acc: 0.7300\n",
            "Epoch 20/30\n",
            "100/100 [==============================] - 110s 1s/step - loss: 0.1787 - acc: 0.9350 - val_loss: 0.6707 - val_acc: 0.7360\n",
            "Epoch 21/30\n",
            "100/100 [==============================] - 106s 1s/step - loss: 0.1492 - acc: 0.9460 - val_loss: 0.8062 - val_acc: 0.7170\n",
            "Epoch 22/30\n",
            "100/100 [==============================] - 110s 1s/step - loss: 0.1352 - acc: 0.9535 - val_loss: 0.7299 - val_acc: 0.7380\n",
            "Epoch 23/30\n",
            "100/100 [==============================] - 104s 1s/step - loss: 0.1161 - acc: 0.9585 - val_loss: 0.8377 - val_acc: 0.7240\n",
            "Epoch 24/30\n",
            "100/100 [==============================] - 106s 1s/step - loss: 0.1077 - acc: 0.9655 - val_loss: 0.8501 - val_acc: 0.7230\n",
            "Epoch 25/30\n",
            "100/100 [==============================] - 109s 1s/step - loss: 0.0837 - acc: 0.9765 - val_loss: 0.8683 - val_acc: 0.7330\n",
            "Epoch 26/30\n",
            "100/100 [==============================] - 96s 962ms/step - loss: 0.0768 - acc: 0.9795 - val_loss: 0.9910 - val_acc: 0.7060\n",
            "Epoch 27/30\n",
            "100/100 [==============================] - 107s 1s/step - loss: 0.0644 - acc: 0.9800 - val_loss: 1.0163 - val_acc: 0.7100\n",
            "Epoch 28/30\n",
            "100/100 [==============================] - 106s 1s/step - loss: 0.0616 - acc: 0.9805 - val_loss: 0.9086 - val_acc: 0.7410\n",
            "Epoch 29/30\n",
            "100/100 [==============================] - 110s 1s/step - loss: 0.0506 - acc: 0.9835 - val_loss: 0.9737 - val_acc: 0.7400\n",
            "Epoch 30/30\n",
            "100/100 [==============================] - 105s 1s/step - loss: 0.0416 - acc: 0.9875 - val_loss: 0.9661 - val_acc: 0.7200\n"
          ]
        }
      ],
      "source": [
        "history = model.fit_generator(\n",
        "                                train_generator,\n",
        "                                steps_per_epoch = 100,\n",
        "                                epochs = 30,\n",
        "                                validation_data = validation_generator,\n",
        "                                validation_steps = 50)"
      ]
    },
    {
      "cell_type": "code",
      "execution_count": null,
      "id": "df141594",
      "metadata": {
        "id": "df141594"
      },
      "outputs": [],
      "source": [
        "model.save('cats_and_dogs_small_1.h5')"
      ]
    },
    {
      "cell_type": "code",
      "execution_count": null,
      "id": "9cc7b357",
      "metadata": {
        "id": "9cc7b357",
        "outputId": "9a9a7fde-a857-470c-83ea-e5e650180f2b"
      },
      "outputs": [
        {
          "data": {
            "image/png": "[encoded data removed]",
            "text/plain": [
              "<Figure size 432x288 with 1 Axes>"
            ]
          },
          "metadata": {
            "needs_background": "light"
          },
          "output_type": "display_data"
        },
        {
          "data": {
            "image/png": "[encoded data removed]",
            "text/plain": [
              "<Figure size 432x288 with 1 Axes>"
            ]
          },
          "metadata": {
            "needs_background": "light"
          },
          "output_type": "display_data"
        }
      ],
      "source": [
        "import matplotlib.pyplot as plt\n",
        "\n",
        "acc = history.history['acc']\n",
        "val_acc = history.history['val_acc']\n",
        "loss = history.history['loss']\n",
        "val_loss = history.history['val_loss']\n",
        "\n",
        "epochs = range(1, len(acc) + 1)\n",
        "\n",
        "plt.plot(epochs, acc, 'bo', label = 'Training acc')\n",
        "plt.plot(epochs, val_acc, 'b', label = 'Validation acc')\n",
        "plt.title('Training and validation accuracy')\n",
        "plt.legend()\n",
        "\n",
        "plt.figure()\n",
        "\n",
        "plt.plot(epochs, loss, 'bo', label = 'Training loss')\n",
        "plt.plot(epochs, val_loss, 'b', label = 'Validation loss')\n",
        "plt.title('Training and validation loss')\n",
        "plt.legend()\n",
        "\n",
        "plt.show()"
      ]
    },
    {
      "cell_type": "code",
      "execution_count": null,
      "id": "cd0d3533",
      "metadata": {
        "id": "cd0d3533"
      },
      "outputs": [],
      "source": []
    }
  ],
  "metadata": {
    "kernelspec": {
      "display_name": "Python 3",
      "language": "python",
      "name": "python3"
    },
    "language_info": {
      "codemirror_mode": {
        "name": "ipython",
        "version": 3
      },
      "file_extension": ".py",
      "mimetype": "text/x-python",
      "name": "python",
      "nbconvert_exporter": "python",
      "pygments_lexer": "ipython3",
      "version": "3.9.1"
    },
    "colab": {
      "provenance": []
    }
  },
  "nbformat": 4,
  "nbformat_minor": 5
}